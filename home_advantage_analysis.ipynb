{
 "cells": [
  {
   "cell_type": "markdown",
   "metadata": {},
   "source": [
    "# Home Advantage in Football Matches\n",
    "\n",
    "### Goal:\n",
    "Analyze the dataset to determine if there is a measurable advantage for teams playing at home across different leagues and seasons. \n",
    "We'll explore trends across leagues and seasons, using data from the Kaggle Soccer dataset.\n"
   ]
  },
  {
   "cell_type": "code",
   "execution_count": 12,
   "metadata": {},
   "outputs": [],
   "source": [
    "import kagglehub\n",
    "import os\n",
    "import sqlite3\n",
    "import pandas as pd\n",
    "import matplotlib.pyplot as plt\n",
    "import seaborn as sns"
   ]
  },
  {
   "cell_type": "code",
   "execution_count": 3,
   "metadata": {},
   "outputs": [],
   "source": [
    "# Step 1: Download the dataset\n",
    "path = kagglehub.dataset_download(\"hugomathien/soccer\")\n",
    "\n",
    "# Step 2: Construct the path to the SQLite database\n",
    "db_file = os.path.join(path, \"database.sqlite\")\n",
    "\n",
    "# Step 3: Connect to the SQLite database\n",
    "try:\n",
    "    conn = sqlite3.connect(db_file)\n",
    "except sqlite3.OperationalError as e:\n",
    "    print(f\"Error: {e}\")\n",
    "    exit()"
   ]
  },
  {
   "cell_type": "code",
   "execution_count": 7,
   "metadata": {},
   "outputs": [
    {
     "name": "stdout",
     "output_type": "stream",
     "text": [
      "   home_team_goal  away_team_goal  league_id     season  home_team_api_id  \\\n",
      "0               1               1          1  2008/2009              9987   \n",
      "1               0               0          1  2008/2009             10000   \n",
      "2               0               3          1  2008/2009              9984   \n",
      "3               5               0          1  2008/2009              9991   \n",
      "4               1               3          1  2008/2009              7947   \n",
      "\n",
      "   away_team_api_id  \n",
      "0              9993  \n",
      "1              9994  \n",
      "2              8635  \n",
      "3              9998  \n",
      "4              9985  \n"
     ]
    }
   ],
   "source": [
    "query = \"\"\"\n",
    "SELECT \n",
    "    home_team_goal, \n",
    "    away_team_goal, \n",
    "    league_id, \n",
    "    season, \n",
    "    home_team_api_id, \n",
    "    away_team_api_id\n",
    "FROM Match\n",
    "\"\"\"\n",
    "matches = pd.read_sql(query, conn)\n",
    "print(matches.head())"
   ]
  },
  {
   "cell_type": "markdown",
   "metadata": {},
   "source": [
    "# Exploratory Data Analysis (EDA)"
   ]
  },
  {
   "cell_type": "code",
   "execution_count": 15,
   "metadata": {},
   "outputs": [
    {
     "name": "stdout",
     "output_type": "stream",
     "text": [
      "\n",
      "Average Home Goals: 1.5445937103044767\n",
      "Average Away Goals: 1.1609376804341969\n",
      "\n",
      "Match Outcome Percentages:\n",
      "result\n",
      "Win     45.871666\n",
      "Loss    28.738597\n",
      "Draw    25.389738\n",
      "Name: proportion, dtype: float64\n"
     ]
    },
    {
     "name": "stderr",
     "output_type": "stream",
     "text": [
      "C:\\Users\\damia\\AppData\\Local\\Temp\\ipykernel_4388\\920892311.py:18: FutureWarning: \n",
      "\n",
      "Passing `palette` without assigning `hue` is deprecated and will be removed in v0.14.0. Assign the `x` variable to `hue` and set `legend=False` for the same effect.\n",
      "\n",
      "  sns.countplot(data=matches, x='result', order=['Win', 'Draw', 'Loss'], palette=custom_palette)\n"
     ]
    },
    {
     "data": {
      "image/png": "[encoded data removed]",
      "text/plain": [
       "<Figure size 640x480 with 1 Axes>"
      ]
     },
     "metadata": {},
     "output_type": "display_data"
    }
   ],
   "source": [
    "home_avg_goals = matches['home_team_goal'].mean()\n",
    "away_avg_goals = matches['away_team_goal'].mean()\n",
    "print(f\"\\nAverage Home Goals: {home_avg_goals}\")\n",
    "print(f\"Average Away Goals: {away_avg_goals}\")\n",
    "matches['result'] = matches.apply(\n",
    "    lambda row: 'Win' if row['home_team_goal'] > row['away_team_goal']\n",
    "    else 'Loss' if row['home_team_goal'] < row['away_team_goal']\n",
    "    else 'Draw', axis=1\n",
    ")\n",
    "result_counts = matches['result'].value_counts(normalize=True) * 100\n",
    "print(\"\\nMatch Outcome Percentages:\")\n",
    "print(result_counts)\n",
    "custom_palette = {\n",
    "    \"Win\": \"green\",\n",
    "    \"Draw\": \"yellow\",\n",
    "    \"Loss\": \"red\"\n",
    "}\n",
    "sns.countplot(data=matches, x='result', order=['Win', 'Draw', 'Loss'], palette=custom_palette)\n",
    "plt.title(\"Distribution of Match Outcomes\")\n",
    "plt.xlabel(\"Result\")\n",
    "plt.ylabel(\"Count\")\n",
    "plt.show()"
   ]
  }
 ],
 "metadata": {
  "kernelspec": {
   "display_name": "Python 3",
   "language": "python",
   "name": "python3"
  },
  "language_info": {
   "codemirror_mode": {
    "name": "ipython",
    "version": 3
   },
   "file_extension": ".py",
   "mimetype": "text/x-python",
   "name": "python",
   "nbconvert_exporter": "python",
   "pygments_lexer": "ipython3",
   "version": "3.9.2"
  }
 },
 "nbformat": 4,
 "nbformat_minor": 2
}
